{
 "cells": [
  {
   "cell_type": "raw",
   "metadata": {},
   "source": [
    "1) Write a decorator function for your taking input for you any kind of function you want to build,\n",
    "For example - You make a fibonacci series function,in which your input range is been defined by\n",
    "the decorator program input.\n"
   ]
  },
  {
   "cell_type": "code",
   "execution_count": 4,
   "metadata": {},
   "outputs": [],
   "source": [
    "def fibonacci(num):\n",
    "    def fibo(n):\n",
    "        if n<=0:\n",
    "                print(\"The number is incorrect\")\n",
    "        elif n==1:\n",
    "            return 0\n",
    "        elif n==2:\n",
    "            return 1\n",
    "        else:\n",
    "            return (fibo(n-1)+fibo(n-2))\n",
    "        return num(n)\n",
    "    return fibo"
   ]
  },
  {
   "cell_type": "code",
   "execution_count": 5,
   "metadata": {},
   "outputs": [],
   "source": [
    "@fibonacci\n",
    "def fibo_num(n):\n",
    "    print(n, \"Is the number\")"
   ]
  },
  {
   "cell_type": "code",
   "execution_count": 3,
   "metadata": {},
   "outputs": [
    {
     "data": {
      "text/plain": [
       "34"
      ]
     },
     "execution_count": 3,
     "metadata": {},
     "output_type": "execute_result"
    }
   ],
   "source": [
    "fibo_num(10)"
   ]
  },
  {
   "cell_type": "raw",
   "metadata": {},
   "source": []
  },
  {
   "cell_type": "raw",
   "metadata": {},
   "source": [
    "2) For this challenge you need to develop a Python program to open a file in read only mode and try\n",
    "writing something to it and handle the subsequent errors using Exception Handling."
   ]
  },
  {
   "cell_type": "code",
   "execution_count": 6,
   "metadata": {},
   "outputs": [
    {
     "name": "stdout",
     "output_type": "stream",
     "text": [
      "not writable\n",
      "Read only mode cannot modefied \n"
     ]
    }
   ],
   "source": [
    "try:\n",
    "    file = open(\"data.txt\",\"r\")\n",
    "    file.write(\"how are you?\")\n",
    "    file.close()\n",
    "    print(\"Success\")\n",
    "except Exception as e:\n",
    "    print(e)\n",
    "finally:\n",
    "    print(\"Read only mode cannot modefied \")"
   ]
  },
  {
   "cell_type": "code",
   "execution_count": null,
   "metadata": {},
   "outputs": [],
   "source": []
  }
 ],
 "metadata": {
  "kernelspec": {
   "display_name": "Python 3",
   "language": "python",
   "name": "python3"
  },
  "language_info": {
   "codemirror_mode": {
    "name": "ipython",
    "version": 3
   },
   "file_extension": ".py",
   "mimetype": "text/x-python",
   "name": "python",
   "nbconvert_exporter": "python",
   "pygments_lexer": "ipython3",
   "version": "3.8.3"
  }
 },
 "nbformat": 4,
 "nbformat_minor": 4
}
